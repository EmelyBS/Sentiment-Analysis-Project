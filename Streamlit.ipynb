{
  "nbformat": 4,
  "nbformat_minor": 0,
  "metadata": {
    "colab": {
      "provenance": [],
      "gpuType": "T4",
      "mount_file_id": "104nd4PHVQKw03bUwA0zNeEFLHKYcJSE7",
      "authorship_tag": "ABX9TyOVVarmVH+p/9vVaTtQbhan",
      "include_colab_link": true
    },
    "kernelspec": {
      "name": "python3",
      "display_name": "Python 3"
    },
    "language_info": {
      "name": "python"
    },
    "accelerator": "GPU"
  },
  "cells": [
    {
      "cell_type": "markdown",
      "metadata": {
        "id": "view-in-github",
        "colab_type": "text"
      },
      "source": [
        "<a href=\"https://colab.research.google.com/github/EmelyBS/Sentiment-Analysis-Project/blob/EmelyBS-bachelors-project/Streamlit.ipynb\" target=\"_parent\"><img src=\"https://colab.research.google.com/assets/colab-badge.svg\" alt=\"Open In Colab\"/></a>"
      ]
    },
    {
      "cell_type": "markdown",
      "source": [
        "# **Sentiment Analysis Web App in Google Colab using Streamlit**"
      ],
      "metadata": {
        "id": "RwGkzlxi0UY_"
      }
    },
    {
      "cell_type": "code",
      "source": [
        "#Installing required libraries for model, data handling, and web app deployment\n",
        "!pip install tensorflow\n",
        "!pip install pandas\n",
        "!pip install scikit-learn\n",
        "!pip install pyngrok\n",
        "!pip install streamlit -q"
      ],
      "metadata": {
        "id": "4PF33z5SbbCx"
      },
      "execution_count": null,
      "outputs": []
    },
    {
      "cell_type": "code",
      "source": [
        "#fetches and prints your public IP address\n",
        "!wget -q -O - ipv4.icanhazip.com"
      ],
      "metadata": {
        "id": "Yev2t-Yoba4V",
        "colab": {
          "base_uri": "https://localhost:8080/"
        },
        "outputId": "4e2d7712-67d2-4953-a9d5-13c523607643"
      },
      "execution_count": 41,
      "outputs": [
        {
          "output_type": "stream",
          "name": "stdout",
          "text": [
            "34.125.243.167\n"
          ]
        }
      ]
    },
    {
      "cell_type": "code",
      "source": [
        "#Creating Desing of Web App, saving it on Google Drive app.py\n",
        "%%writefile /content/drive/MyDrive/ColabNotebooks/StreamlitApps/app.py\n",
        "import streamlit as st\n",
        "import torch\n",
        "from transformers import BertForSequenceClassification, BertTokenizer\n",
        "from transformers import AutoTokenizer, AutoModelForSequenceClassification\n",
        "\n",
        "# Load model and tokenizer\n",
        "model_dir = '/content/drive/MyDrive/ColabNotebooks/Models/best_fine_tuned_bert'\n",
        "tokenizer = AutoTokenizer.from_pretrained(model_dir)\n",
        "model = AutoModelForSequenceClassification.from_pretrained(model_dir)\n",
        "\n",
        "# Apply custom styling for the title (centered)\n",
        "st.markdown(\n",
        "    \"\"\"\n",
        "    <h3 style=\"text-align: center;\">Sentiment Analysis on Airline Reviews</h3>\n",
        "    <hr style=\"width:50%; margin:auto;\">\n",
        "    \"\"\",\n",
        "    unsafe_allow_html=True\n",
        ")\n",
        "\n",
        "# Add an image with reduced width and align it to the right, replace deprecated 'use_column_width' with 'use_container_width'\n",
        "st.image(\"/content/drive/MyDrive/Colab Notebooks/Sentiment Analysis cover pic.jpg\", width=400, use_container_width=True)\n",
        "\n",
        "# Make the text bold and set the same size as \"History\" section, remove the ** from \"How was your experience\"\n",
        "st.markdown(\"<h4 style='text-align: center;'>How was your experience?</h4>\", unsafe_allow_html=True)\n",
        "\n",
        "# User input text box\n",
        "user_input = st.text_area(\"Enter your review here:\")\n",
        "\n",
        "# Sentiment Analysis function\n",
        "def sentiment_analyzer(text):\n",
        "    inputs = tokenizer(text, return_tensors=\"pt\", truncation=True, padding=True)\n",
        "    outputs = model(**inputs)\n",
        "    predictions = torch.argmax(outputs.logits, dim=-1).item()\n",
        "    return predictions\n",
        "\n",
        "# Customize the \"Analyze Sentiment\" button with dark blue color, center it\n",
        "button_style = \"\"\"\n",
        "    <style>\n",
        "        .stButton>button {\n",
        "            background-color: #003366;  /* Dark Blue */\n",
        "            color: white;\n",
        "            font-size: 16px;\n",
        "            border-radius: 5px;\n",
        "            width: 100%;  /* Ensure it stretches across */\n",
        "            display: block;\n",
        "            margin: 0 auto;  /* Center button */\n",
        "        }\n",
        "    </style>\n",
        "\"\"\"\n",
        "st.markdown(button_style, unsafe_allow_html=True)\n",
        "\n",
        "# Initialize session state for history\n",
        "if 'history' not in st.session_state:\n",
        "    st.session_state.history = []\n",
        "\n",
        "# When the user clicks the button, analyze sentiment\n",
        "if st.button(\"Analyze Sentiment\"):\n",
        "    if user_input:\n",
        "        sentiment = sentiment_analyzer(user_input)\n",
        "        sentiment_label = \"Positive 😊\" if sentiment == 1 else \"Negative 😞\"\n",
        "\n",
        "        # Conditional color for prediction box with lighter shades\n",
        "        if sentiment == 1:\n",
        "            prediction_color = \"#66cc66\"  # Light Green\n",
        "        else:\n",
        "            prediction_color = \"#ff6666\"  # Light Red\n",
        "\n",
        "        # Display the result with a background color based on sentiment\n",
        "        st.markdown(f\"\"\"\n",
        "            <div style=\"background-color:{prediction_color}; padding: 10px; border-radius: 5px; color: white; text-align: center;\">\n",
        "                <h4>Prediction: {sentiment_label}</h4>\n",
        "            </div>\n",
        "        \"\"\", unsafe_allow_html=True)\n",
        "\n",
        "        # Add to history\n",
        "        st.session_state.history.append({\n",
        "            \"Review\": user_input,\n",
        "            \"Sentiment\": sentiment_label\n",
        "        })\n",
        "    else:\n",
        "        st.warning(\"Please enter a review to analyze.\")\n",
        "\n",
        "# Display the history of reviews and predictions\n",
        "if st.session_state.history:\n",
        "    st.subheader(\"History\")\n",
        "    # Create a dataframe to display the history\n",
        "    import pandas as pd\n",
        "    history_df = pd.DataFrame(st.session_state.history)\n",
        "    st.dataframe(history_df)\n"
      ],
      "metadata": {
        "colab": {
          "base_uri": "https://localhost:8080/"
        },
        "id": "lOiusl_wcyAm",
        "outputId": "72172b48-fa0c-46c2-dc57-7d9c2d788cf4"
      },
      "execution_count": 42,
      "outputs": [
        {
          "output_type": "stream",
          "name": "stdout",
          "text": [
            "Overwriting /content/drive/MyDrive/ColabNotebooks/StreamlitApps/app.py\n"
          ]
        }
      ]
    },
    {
      "cell_type": "code",
      "source": [
        "#Launch the Streamlit web app and expose it via a temporary public URL using LocalTunnel\n",
        "!streamlit run /content/drive/MyDrive/ColabNotebooks/StreamlitApps/app.py & npx localtunnel --port 8501"
      ],
      "metadata": {
        "colab": {
          "base_uri": "https://localhost:8080/"
        },
        "id": "ukOLEGNOz0vr",
        "outputId": "050d01f2-f927-41f2-ba59-47e740bb2371"
      },
      "execution_count": 43,
      "outputs": [
        {
          "output_type": "stream",
          "name": "stdout",
          "text": [
            "\n",
            "Collecting usage statistics. To deactivate, set browser.gatherUsageStats to false.\n",
            "\u001b[0m\n",
            "\u001b[1G\u001b[0K⠙\u001b[1G\u001b[0K⠹\u001b[1G\u001b[0K⠸\u001b[1G\u001b[0K⠼\u001b[0m\n",
            "\u001b[34m\u001b[1m  You can now view your Streamlit app in your browser.\u001b[0m\n",
            "\u001b[0m\n",
            "\u001b[34m  Local URL: \u001b[0m\u001b[1mhttp://localhost:8501\u001b[0m\n",
            "\u001b[34m  Network URL: \u001b[0m\u001b[1mhttp://172.28.0.12:8501\u001b[0m\n",
            "\u001b[34m  External URL: \u001b[0m\u001b[1mhttp://34.125.243.167:8501\u001b[0m\n",
            "\u001b[0m\n",
            "\u001b[1G\u001b[0K⠴\u001b[1G\u001b[0K⠦\u001b[1G\u001b[0Kyour url is: https://fruity-tools-accept.loca.lt\n",
            "2025-04-04 12:40:09.004851: E external/local_xla/xla/stream_executor/cuda/cuda_fft.cc:477] Unable to register cuFFT factory: Attempting to register factory for plugin cuFFT when one has already been registered\n",
            "WARNING: All log messages before absl::InitializeLog() is called are written to STDERR\n",
            "E0000 00:00:1743770409.048450   27405 cuda_dnn.cc:8310] Unable to register cuDNN factory: Attempting to register factory for plugin cuDNN when one has already been registered\n",
            "E0000 00:00:1743770409.061874   27405 cuda_blas.cc:1418] Unable to register cuBLAS factory: Attempting to register factory for plugin cuBLAS when one has already been registered\n",
            "2025-04-04 12:40:09.102981: I tensorflow/core/platform/cpu_feature_guard.cc:210] This TensorFlow binary is optimized to use available CPU instructions in performance-critical operations.\n",
            "To enable the following instructions: AVX2 AVX512F FMA, in other operations, rebuild TensorFlow with the appropriate compiler flags.\n",
            "2025-04-04 12:40:13.253 Examining the path of torch.classes raised:\n",
            "Traceback (most recent call last):\n",
            "  File \"/usr/local/lib/python3.11/dist-packages/streamlit/web/bootstrap.py\", line 347, in run\n",
            "    if asyncio.get_running_loop().is_running():\n",
            "       ^^^^^^^^^^^^^^^^^^^^^^^^^^\n",
            "RuntimeError: no running event loop\n",
            "\n",
            "During handling of the above exception, another exception occurred:\n",
            "\n",
            "Traceback (most recent call last):\n",
            "  File \"/usr/local/lib/python3.11/dist-packages/streamlit/watcher/local_sources_watcher.py\", line 217, in get_module_paths\n",
            "    potential_paths = extract_paths(module)\n",
            "                      ^^^^^^^^^^^^^^^^^^^^^\n",
            "  File \"/usr/local/lib/python3.11/dist-packages/streamlit/watcher/local_sources_watcher.py\", line 210, in <lambda>\n",
            "    lambda m: list(m.__path__._path),\n",
            "                   ^^^^^^^^^^^^^^^^\n",
            "  File \"/usr/local/lib/python3.11/dist-packages/torch/_classes.py\", line 13, in __getattr__\n",
            "    proxy = torch._C._get_custom_class_python_wrapper(self.name, attr)\n",
            "            ^^^^^^^^^^^^^^^^^^^^^^^^^^^^^^^^^^^^^^^^^^^^^^^^^^^^^^^^^^\n",
            "RuntimeError: Tried to instantiate class '__path__._path', but it does not exist! Ensure that it is registered via torch::class_\n",
            "\u001b[34m  Stopping...\u001b[0m\n",
            "^C\n"
          ]
        }
      ]
    },
    {
      "cell_type": "code",
      "source": [
        "!ngrok authtoken 2uwbZbwQDv9kGaqCGqh9RxBcIHa_6ZpenceaVF6NBqGXtTU9Z\n"
      ],
      "metadata": {
        "id": "AtisMb0czy5V"
      },
      "execution_count": null,
      "outputs": []
    },
    {
      "cell_type": "code",
      "source": [],
      "metadata": {
        "id": "KKLc1yx8yYrg"
      },
      "execution_count": null,
      "outputs": []
    }
  ]
}